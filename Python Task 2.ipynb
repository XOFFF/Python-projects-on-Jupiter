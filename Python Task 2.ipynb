{
 "cells": [
  {
   "cell_type": "markdown",
   "metadata": {},
   "source": [
    "# Electrical circuit\n",
    "An electrical circuit is a path in which electrons from a voltage or current source flow."
   ]
  },
  {
   "cell_type": "markdown",
   "metadata": {},
   "source": [
    "<img src=\"EC2.jpg\">"
   ]
  },
  {
   "cell_type": "markdown",
   "metadata": {},
   "source": [
    "## <span style=\"color:green\">What is electrical circuit ?"
   ]
  },
  {
   "cell_type": "markdown",
   "metadata": {},
   "source": [
    "An **electrical circuit** is a path in which electrons from a voltage or current source flow.\n",
    "\n",
    "The point where those electrons enter an electrical circuit is called the \"source\" of electrons. The point where the electrons leave an electrical circuit is called the \"return\" or \"earth ground\". The exit point is called the \"return\" because electrons always end up at the source when they complete the path of an electrical circuit.\n",
    "\n",
    "Electronic circuits usually use direct current sources. The load of an electronic circuit may be as simple as a few resistors, capacitors, and a lamp, all connected together to create the flash in a camera. Or an electronic circuit can be complicated, connecting thousands of resistors, capacitors, and transistors. It may be an integrated circuit such as the microprocessor in a computer.\n",
    "\n",
    "Resistors and other circuit elements can be connected in series or in parallel."
   ]
  },
  {
   "cell_type": "markdown",
   "metadata": {},
   "source": [
    "`Kirchhoff's laws` are fundamental to circuit theory. They quantify how current flows through a circuit and how voltage varies around a loop in a circuit.\n",
    "\n",
    "`Kirchhoff's current law (1st Law)` states that current flowing into a node (or a junction) must be equal to current flowing out of it. This is a consequence of charge conservation.\n",
    "\n",
    "`Kirchhoff's voltage law (2nd Law)` states that the sum of all voltages around any closed loop in a circuit must equal zero. This is a consequence of charge conservation and also conservation of energy."
   ]
  },
  {
   "cell_type": "markdown",
   "metadata": {},
   "source": [
    "# Problem\n",
    "This circuit has the following data. And we must find the unknown:\n",
    "**i1; i2; i3**"
   ]
  },
  {
   "cell_type": "markdown",
   "metadata": {},
   "source": [
    "<img src=\"ECS1.jpg\">"
   ]
  },
  {
   "cell_type": "markdown",
   "metadata": {},
   "source": [
    "We can represent following scheme like Linear equation system:"
   ]
  },
  {
   "cell_type": "markdown",
   "metadata": {},
   "source": [
    "\\begin{bmatrix} \n",
    "   -E_1  {}-{}   E_2 & {}+{} & R(i_1 - i_2) & {}={} & 0 \\\\\n",
    "    -R(i_2+i_1) & {}+{} & E3 & {}={} & 0\n",
    "\\end{bmatrix}"
   ]
  },
  {
   "cell_type": "markdown",
   "metadata": {},
   "source": [
    "\\begin{align}\n",
    "A &= \\begin{bmatrix}\n",
    "-E_1  {}-{}   E_2 & {}+{} & R(i_1 - i_2)\\\\\n",
    "    -R(i_2+i_1) & {}+{} & E3\n",
    "\\end{bmatrix}\n",
    "\\end{align}"
   ]
  },
  {
   "cell_type": "markdown",
   "metadata": {},
   "source": [
    "\\begin{align}\n",
    "B &= \\begin{bmatrix}\n",
    "E_1 {}+{} E_2 \\\\\n",
    "-E_3\n",
    "\\end{bmatrix}\n",
    "&\n",
    "X &= \\begin{bmatrix}\n",
    "i_1 \\\\\n",
    "i_2\n",
    "\\end{bmatrix}\n",
    "\\end{align}"
   ]
  },
  {
   "cell_type": "markdown",
   "metadata": {},
   "source": [
    "One way to find the unknowns is to use the matrix method to solve a system of linear equations.\n",
    "Where `A` = matrix of resistors and `B` = matrix of voltage.\n",
    "$$ X = A^{-1}B $$"
   ]
  },
  {
   "cell_type": "markdown",
   "metadata": {},
   "source": [
    "## Solve of the problem"
   ]
  },
  {
   "cell_type": "code",
   "execution_count": 13,
   "metadata": {},
   "outputs": [
    {
     "name": "stdout",
     "output_type": "stream",
     "text": [
      "Eq(1.5*I1 - 1.5*I2, 1.5)\n",
      "Eq(-1.5*I1 - 1.5*I2, -1.5)\n"
     ]
    }
   ],
   "source": [
    "import sympy as sym\n",
    "\n",
    "sym.init_printing()\n",
    "i1,i2 = sym.symbols('I1,I2')\n",
    "\n",
    "R = 1.5\n",
    "E1 = 1; E2 = 0.5; E3 = 1.5;\n",
    "\n",
    "f = sym.Eq(R * ( i1 - i2), E1 + E2)\n",
    "g = sym.Eq((-R) * ( i2 + i1), -E3)\n",
    "\n",
    "print(f); print(g)\n",
    "\n",
    "result = sym.solve([f,g])"
   ]
  },
  {
   "cell_type": "code",
   "execution_count": 14,
   "metadata": {},
   "outputs": [
    {
     "name": "stdout",
     "output_type": "stream",
     "text": [
      "i1 is :  1.00000000000000 , i2 is :  0.0\n",
      "i3 is :  1.00000000000000\n"
     ]
    }
   ],
   "source": [
    "print('i1 is : ', result.get(i1), ', i2 is : ', result.get(i2))\n",
    "print('i3 is : ', result.get(i1) + result.get(i2))"
   ]
  },
  {
   "cell_type": "markdown",
   "metadata": {},
   "source": [
    "## Another scheme, solving the same problem"
   ]
  },
  {
   "cell_type": "markdown",
   "metadata": {},
   "source": [
    "<img src=\"ECS2.jpg\">"
   ]
  },
  {
   "cell_type": "code",
   "execution_count": 5,
   "metadata": {},
   "outputs": [
    {
     "name": "stdout",
     "output_type": "stream",
     "text": [
      "Eq(1.0*I1 - 0.4*I2, -1)\n",
      "Eq(-0.4*I1 + 2.0*I2, -2)\n"
     ]
    },
    {
     "data": {
      "image/png": "[encoded data removed]",
      "text/latex": [
       "$\\displaystyle \\left\\{ I_{1} : -1.52173913043478, \\  I_{2} : -1.30434782608696\\right\\}$"
      ],
      "text/plain": [
       "{I₁: -1.52173913043478, I₂: -1.30434782608696}"
      ]
     },
     "execution_count": 5,
     "metadata": {},
     "output_type": "execute_result"
    }
   ],
   "source": [
    "sym.init_printing()\n",
    "i1,i2 = sym.symbols('I1,I2')\n",
    "\n",
    "R1 = 0.3; R2 = 0.2; R3 = 0.1; R4 = 0.4; R5 = 1.6\n",
    "E1 = 1; E2 = 2;\n",
    "\n",
    "f = sym.Eq(i1 * (R1 + R2 + R3 + R4) - i2 * R4, -E1)\n",
    "g = sym.Eq((-i1) * R4 + i2 * (R5 + R4), -E2)\n",
    "\n",
    "print(f); print(g)\n",
    "\n",
    "result = sym.solve([f,g])\n",
    "result"
   ]
  },
  {
   "cell_type": "code",
   "execution_count": 6,
   "metadata": {},
   "outputs": [
    {
     "data": {
      "image/png": "[encoded data removed]",
      "text/latex": [
       "$\\displaystyle -1.52173913043478$"
      ],
      "text/plain": [
       "-1.52173913043478"
      ]
     },
     "execution_count": 6,
     "metadata": {},
     "output_type": "execute_result"
    }
   ],
   "source": [
    "# result.values()\n",
    "result.get(i1)"
   ]
  },
  {
   "cell_type": "code",
   "execution_count": 7,
   "metadata": {},
   "outputs": [
    {
     "name": "stdout",
     "output_type": "stream",
     "text": [
      "i3 is :  -2.82608695652174\n"
     ]
    }
   ],
   "source": [
    "print('i3 is : ', result.get(i1) + result.get(i2))\n"
   ]
  },
  {
   "cell_type": "markdown",
   "metadata": {},
   "source": [
    "### Finally, now we can make schemes `electrical circuit` and find uknown variables using `Python!`"
   ]
  },
  {
   "cell_type": "markdown",
   "metadata": {},
   "source": [
    "### Sources:\n",
    "    https://simple.wikipedia.org/wiki/Electrical_circuit"
   ]
  },
  {
   "cell_type": "markdown",
   "metadata": {},
   "source": [
    "### Thank you for your attention! \n",
    "\n",
    "Made by a 3-rd year student of __WSPA__: Marko Andrushchenko"
   ]
  },
  {
   "cell_type": "code",
   "execution_count": null,
   "metadata": {},
   "outputs": [],
   "source": []
  }
 ],
 "metadata": {
  "kernelspec": {
   "display_name": "Python 3",
   "language": "python",
   "name": "python3"
  },
  "language_info": {
   "codemirror_mode": {
    "name": "ipython",
    "version": 3
   },
   "file_extension": ".py",
   "mimetype": "text/x-python",
   "name": "python",
   "nbconvert_exporter": "python",
   "pygments_lexer": "ipython3",
   "version": "3.7.4"
  }
 },
 "nbformat": 4,
 "nbformat_minor": 2
}
