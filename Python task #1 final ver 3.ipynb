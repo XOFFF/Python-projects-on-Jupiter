{
 "cells": [
  {
   "cell_type": "markdown",
   "metadata": {},
   "source": [
    "# Optical fibers"
   ]
  },
  {
   "cell_type": "markdown",
   "metadata": {},
   "source": [
    "## What is it?\n",
    "\n",
    "Optical fibers are circular dielectric wave-guides that can transport optical energy and information. They have a central core surrounded by a concentric cladding with slightly lower `by ≈ 1%` refractive index. Optical fibers are typically made of silica with index-modifying dopants such as `GeO2`. A protective coating of one or two layers of cushioning material `such as acrylate` is used to reduce cross talk between adjacent fibers and the loss-increasing microbending that occurs when fibers are pressed against rough surfaces. For greater environmental protection, fibers are commonly incorporated into cables. Typical cables have a polyethylene sheath that encases the fiber within a strength member such as steel or Kevlar strands."
   ]
  },
  {
   "cell_type": "markdown",
   "metadata": {},
   "source": [
    "## The structure of optical fiber\n",
    "\n",
    "An optical fiber consists of three concentric elements, `the core`, `the cladding` and `the outer coating`, often called the `buffer`.  The core is usually made of glass or plastic.  The core is the light-carrying portion of the fiber.  The cladding surrounds the core.  The cladding is made of a material with a slightly lower index of refraction than the core.  This difference in the indices causes total internal reflection to occur at the core-cladding boundary along the length of the fiber.  Light is transmitted down the fiber and does not escape through the sides of the fiber.\n",
    "\n",
    "\n",
    "<img src=\"fib1.gif\">\n",
    "\n",
    "\n",
    "__1. Fiber Optic Core:__\n",
    "\n",
    "    the inner light-carrying member with a high index of refraction.\n",
    "    \n",
    "__2. Cladding:__\n",
    "\n",
    "    the middle layer, which serves to confine the light to the core.  It has a lower index of refraction.\n",
    "    \n",
    "__3. Buffer:__\n",
    "\n",
    "    the outer layer, which serves as a \"shock absorber\" to protect the core and cladding from damage.  The coating usually comprises one or more coats of a plastic material to protect the fiber from the physical environment.  Sometimes metallic sheaths are added to the coating for further physical protection."
   ]
  },
  {
   "cell_type": "markdown",
   "metadata": {},
   "source": [
    "<img src=\"Optical-fibre.svg.png\">"
   ]
  },
  {
   "cell_type": "markdown",
   "metadata": {},
   "source": [
    "## The task\n",
    "By the given __Table__ `Index of refraction` the input to the program is a data file (.txt) containing the indices of refraction for the potential light pipes.\n",
    "\n",
    "\n",
    "Using this formula we can determine whether or not specified materials will form a light pipe:\n",
    "\n",
    "\\begin{equation}\n",
    "θc=sin−1(n2/n1)\n",
    "\\end{equation}"
   ]
  },
  {
   "cell_type": "code",
   "execution_count": 15,
   "metadata": {},
   "outputs": [
    {
     "name": "stdout",
     "output_type": "stream",
     "text": [
      "['Hydrogen', 'Air', 'Carbon dioxide', 'Water', 'Ethyl Alcohol', 'Glycerine', 'Ice', 'Polystyrene', 'Crown glass', 'Flint glass', 'Diamond', 'Acrylic']\n",
      "['1.0001\\n', '1.0003\\n', '1.0005\\n', '1.333\\n', '1.362\\n', '1.473\\n', '1.31\\n', '1.59\\n', '1.50 - 1.62\\n', '1.57 - 1.75\\n', '2.417\\n', '1.49']\n"
     ]
    }
   ],
   "source": [
    "import numpy as np\n",
    "import re\n",
    "\n",
    "file = open('Index of refraction.txt', 'r')\n",
    "data = file.readlines()\n",
    "file.close()\n",
    "x=[]\n",
    "y=[]\n",
    "for i in data:\n",
    "    c0 = i.split('\\t')[0]\n",
    "    x.append(str(c0))\n",
    "    c1 = i.split('\\t')[1]\n",
    "    y.append(str(c1))\n",
    "print(x)\n",
    "print(y)"
   ]
  },
  {
   "cell_type": "markdown",
   "metadata": {},
   "source": [
    "`Here we get the data, change it and check is everything OK`"
   ]
  },
  {
   "cell_type": "code",
   "execution_count": 8,
   "metadata": {},
   "outputs": [
    {
     "name": "stdout",
     "output_type": "stream",
     "text": [
      "['1.0001']\n",
      "['1.0003']\n",
      "['1.0005']\n",
      "['1.333']\n",
      "['1.362']\n",
      "['1.473']\n",
      "['1.31']\n",
      "['1.59']\n",
      "['1.50', '1.62']\n",
      "['1.57', '1.75']\n",
      "['2.417']\n",
      "['1.49']\n"
     ]
    }
   ],
   "source": [
    "z=[]\n",
    "for r in y:\n",
    "    rr = re.findall(\"[-+]?[.]?[\\d]+(?:,\\d\\d\\d)*[\\.]?\\d*(?:[eE][-+]?\\d+)?\", r)\n",
    "    print(rr)\n",
    "    z.append(rr)"
   ]
  },
  {
   "cell_type": "code",
   "execution_count": 9,
   "metadata": {},
   "outputs": [
    {
     "name": "stdout",
     "output_type": "stream",
     "text": [
      "[1.0001, 1.0003, 1.0005, 1.333, 1.362, 1.473, 1.31, 1.59, 1.56, 1.6600000000000001, 2.417, 1.49]\n"
     ]
    }
   ],
   "source": [
    "numbers=[]\n",
    "for tn in z:\n",
    "    if(len(tn) == 1):\n",
    "        numbers.append(float(tn[0]))\n",
    "    else:\n",
    "        numbers.append( (float(tn[0])+float(tn[1]))/2 )\n",
    "print(numbers)"
   ]
  },
  {
   "cell_type": "markdown",
   "metadata": {},
   "source": [
    "`Here we change values by finding average value when we have got more than 1 value`"
   ]
  },
  {
   "cell_type": "code",
   "execution_count": 6,
   "metadata": {},
   "outputs": [
    {
     "name": "stdout",
     "output_type": "stream",
     "text": [
      "Hydrogen  +  Air  =  nan\n",
      "Hydrogen  +  Carbon dioxide  =  nan\n",
      "Hydrogen  +  Water  =  nan\n",
      "Hydrogen  +  Ethyl Alcohol  =  nan\n",
      "Hydrogen  +  Glycerine  =  nan\n",
      "Hydrogen  +  Ice  =  nan\n",
      "Hydrogen  +  Polystyrene  =  nan\n",
      "Hydrogen  +  Crown glass  =  nan\n",
      "Hydrogen  +  Flint glass  =  nan\n",
      "Hydrogen  +  Diamond  =  nan\n",
      "Hydrogen  +  Acrylic  =  nan\n",
      "Air  +  Hydrogen  =  88.854237167551\n",
      "Air  +  Carbon dioxide  =  nan\n",
      "Air  +  Water  =  nan\n",
      "Air  +  Ethyl Alcohol  =  nan\n",
      "Air  +  Glycerine  =  nan\n",
      "Air  +  Ice  =  nan\n",
      "Air  +  Polystyrene  =  nan\n",
      "Air  +  Crown glass  =  nan\n",
      "Air  +  Flint glass  =  nan\n",
      "Air  +  Diamond  =  nan\n",
      "Air  +  Acrylic  =  nan\n",
      "Carbon dioxide  +  Hydrogen  =  88.37978163804817\n",
      "Carbon dioxide  +  Air  =  88.8543516961147\n",
      "Carbon dioxide  +  Water  =  nan\n",
      "Carbon dioxide  +  Ethyl Alcohol  =  nan\n",
      "Carbon dioxide  +  Glycerine  =  nan\n",
      "Carbon dioxide  +  Ice  =  nan\n",
      "Carbon dioxide  +  Polystyrene  =  nan\n",
      "Carbon dioxide  +  Crown glass  =  nan\n",
      "Carbon dioxide  +  Flint glass  =  nan\n",
      "Carbon dioxide  +  Diamond  =  nan\n",
      "Carbon dioxide  +  Acrylic  =  nan\n",
      "Water  +  Hydrogen  =  48.61312725599257\n",
      "Water  +  Air  =  48.62613149640855\n",
      "Water  +  Carbon dioxide  =  48.63913908862278\n",
      "Water  +  Ethyl Alcohol  =  nan\n",
      "Water  +  Glycerine  =  nan\n",
      "Water  +  Ice  =  79.34108711486117\n",
      "Water  +  Polystyrene  =  nan\n",
      "Water  +  Crown glass  =  nan\n",
      "Water  +  Flint glass  =  nan\n",
      "Water  +  Diamond  =  nan\n",
      "Water  +  Acrylic  =  nan\n",
      "Ethyl Alcohol  +  Hydrogen  =  47.247071365462354\n",
      "Ethyl Alcohol  +  Air  =  47.25946675039296\n",
      "Ethyl Alcohol  +  Carbon dioxide  =  47.27186503792628\n",
      "Ethyl Alcohol  +  Water  =  78.15536472521335\n",
      "Ethyl Alcohol  +  Glycerine  =  nan\n",
      "Ethyl Alcohol  +  Ice  =  74.11664391487777\n",
      "Ethyl Alcohol  +  Polystyrene  =  nan\n",
      "Ethyl Alcohol  +  Crown glass  =  nan\n",
      "Ethyl Alcohol  +  Flint glass  =  nan\n",
      "Ethyl Alcohol  +  Diamond  =  nan\n",
      "Ethyl Alcohol  +  Acrylic  =  nan\n",
      "Glycerine  +  Hydrogen  =  42.76199904831808\n",
      "Glycerine  +  Air  =  42.77259608109033\n",
      "Glycerine  +  Carbon dioxide  =  42.78319492736993\n",
      "Glycerine  +  Water  =  64.81734046565637\n",
      "Glycerine  +  Ethyl Alcohol  =  67.61467181014204\n",
      "Glycerine  +  Ice  =  62.790613855304024\n",
      "Glycerine  +  Polystyrene  =  nan\n",
      "Glycerine  +  Crown glass  =  nan\n",
      "Glycerine  +  Flint glass  =  nan\n",
      "Glycerine  +  Diamond  =  nan\n",
      "Glycerine  +  Acrylic  =  nan\n",
      "Ice  +  Hydrogen  =  49.767973081585126\n",
      "Ice  +  Air  =  49.781518335071695\n",
      "Ice  +  Carbon dioxide  =  49.79506737645891\n",
      "Ice  +  Water  =  nan\n",
      "Ice  +  Ethyl Alcohol  =  nan\n",
      "Ice  +  Glycerine  =  nan\n",
      "Ice  +  Polystyrene  =  nan\n",
      "Ice  +  Crown glass  =  nan\n",
      "Ice  +  Flint glass  =  nan\n",
      "Ice  +  Diamond  =  nan\n",
      "Ice  +  Acrylic  =  nan\n",
      "Polystyrene  +  Hydrogen  =  38.975919296214855\n",
      "Polystyrene  +  Air  =  38.985190445962296\n",
      "Polystyrene  +  Carbon dioxide  =  38.994462810052035\n",
      "Polystyrene  +  Water  =  56.96784512576532\n",
      "Polystyrene  +  Ethyl Alcohol  =  58.93736698423683\n",
      "Polystyrene  +  Glycerine  =  67.88271576462529\n",
      "Polystyrene  +  Ice  =  55.477062567156096\n",
      "Polystyrene  +  Crown glass  =  78.8523089815425\n",
      "Polystyrene  +  Flint glass  =  nan\n",
      "Polystyrene  +  Diamond  =  nan\n",
      "Polystyrene  +  Acrylic  =  69.57124244435813\n",
      "Crown glass  +  Hydrogen  =  39.87312701104719\n",
      "Crown glass  +  Air  =  39.882698934920306\n",
      "Crown glass  +  Carbon dioxide  =  39.89227219521559\n",
      "Crown glass  +  Water  =  58.703126682382795\n",
      "Crown glass  +  Ethyl Alcohol  =  60.81819074793739\n",
      "Crown glass  +  Glycerine  =  70.77464921663656\n",
      "Crown glass  +  Ice  =  57.113053229588466\n",
      "Crown glass  +  Polystyrene  =  nan\n",
      "Crown glass  +  Flint glass  =  nan\n",
      "Crown glass  +  Diamond  =  nan\n",
      "Crown glass  +  Acrylic  =  72.77092971436281\n",
      "Flint glass  +  Hydrogen  =  37.046995292167004\n",
      "Flint glass  +  Air  =  37.055644758827576\n",
      "Flint glass  +  Carbon dioxide  =  37.064295211534336\n",
      "Flint glass  +  Water  =  53.418702108743645\n",
      "Flint glass  +  Ethyl Alcohol  =  55.13306569957456\n",
      "Flint glass  +  Glycerine  =  62.54204017879408\n",
      "Flint glass  +  Ice  =  52.106766640169795\n",
      "Flint glass  +  Polystyrene  =  73.30176076298858\n",
      "Flint glass  +  Crown glass  =  70.01112898025018\n",
      "Flint glass  +  Diamond  =  nan\n",
      "Flint glass  +  Acrylic  =  63.84311672312749\n",
      "Diamond  +  Hydrogen  =  24.44234773787938\n",
      "Diamond  +  Air  =  24.447555644101683\n",
      "Diamond  +  Carbon dioxide  =  24.452763765538418\n",
      "Diamond  +  Water  =  33.470676449533464\n",
      "Diamond  +  Ethyl Alcohol  =  34.298781588521315\n",
      "Diamond  +  Glycerine  =  37.548529582191605\n",
      "Diamond  +  Ice  =  32.81949666081076\n",
      "Diamond  +  Polystyrene  =  41.13536888954533\n",
      "Diamond  +  Crown glass  =  40.19778928915273\n",
      "Diamond  +  Flint glass  =  43.37747539078411\n",
      "Diamond  +  Acrylic  =  38.058570374287925\n",
      "Acrylic  +  Hydrogen  =  42.160371566964436\n",
      "Acrylic  +  Air  =  42.1707474752751\n",
      "Acrylic  +  Carbon dioxide  =  42.18112508590205\n",
      "Acrylic  +  Water  =  63.461055832678596\n",
      "Acrylic  +  Ethyl Alcohol  =  66.07738324944076\n",
      "Acrylic  +  Glycerine  =  81.33671218419279\n",
      "Acrylic  +  Ice  =  61.54536432457786\n",
      "Acrylic  +  Polystyrene  =  nan\n",
      "Acrylic  +  Crown glass  =  nan\n",
      "Acrylic  +  Flint glass  =  nan\n",
      "Acrylic  +  Diamond  =  nan\n"
     ]
    },
    {
     "name": "stderr",
     "output_type": "stream",
     "text": [
      "C:\\ProgramData\\Anaconda3\\lib\\site-packages\\ipykernel_launcher.py:14: RuntimeWarning: invalid value encountered in arcsin\n",
      "  \n"
     ]
    }
   ],
   "source": [
    "#first column\n",
    "i=0 \n",
    "#second column\n",
    "j=0\n",
    "# 'Crown glass' index in table\n",
    "cg = 8\n",
    "# 'Flint glass' index in table\n",
    "fg = 10\n",
    "\n",
    "while(i < 12):\n",
    "    while(j < 12):\n",
    "        if(i!=j):\n",
    "            if(j!=cg or j!=fg):\n",
    "                print(x[i], ' + ', x[j], ' = ', np.arcsin(numbers[j]/numbers[i])*180/np.pi)\n",
    "            else:\n",
    "                print(x[i], ' + ', x[j], ' = ', np.arcsin(numbers[j]/numbers[i])*180/np.pi, \" - \", np.arcsin(numbers[j+1]/numbers[i])*180/np.pi)\n",
    "                j=j+1\n",
    "        j=j+1\n",
    "    i=i+1\n",
    "    j=0"
   ]
  },
  {
   "cell_type": "markdown",
   "metadata": {},
   "source": [
    "`Finally, now we can see whether or not light is transmitted and the angles at which it can enter pipe.`"
   ]
  },
  {
   "cell_type": "markdown",
   "metadata": {},
   "source": [
    "## Thank you for your attention! \n",
    "\n",
    "Made by a 3-rd year student of __WSPA__: Marko Andrushchenko"
   ]
  }
 ],
 "metadata": {
  "kernelspec": {
   "display_name": "Python 3",
   "language": "python",
   "name": "python3"
  },
  "language_info": {
   "codemirror_mode": {
    "name": "ipython",
    "version": 3
   },
   "file_extension": ".py",
   "mimetype": "text/x-python",
   "name": "python",
   "nbconvert_exporter": "python",
   "pygments_lexer": "ipython3",
   "version": "3.7.4"
  }
 },
 "nbformat": 4,
 "nbformat_minor": 2
}
